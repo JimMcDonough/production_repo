{
 "cells": [
  {
   "cell_type": "code",
   "execution_count": 1,
   "id": "fed33265",
   "metadata": {},
   "outputs": [],
   "source": [
    "import requests"
   ]
  },
  {
   "cell_type": "code",
   "execution_count": 2,
   "id": "7419e3bb",
   "metadata": {},
   "outputs": [],
   "source": [
    "api_website_end_point = \"http://127.0.0.1:5000\""
   ]
  },
  {
   "cell_type": "markdown",
   "id": "fbe8828e",
   "metadata": {},
   "source": [
    "# Example 1"
   ]
  },
  {
   "cell_type": "markdown",
   "id": "97bf9a0b",
   "metadata": {},
   "source": [
    "Use the requests library to send an HTTP request with parameters of context and question.  context is the text or document you would like to find the answer to question you are submitting.  While using the requests Python library you must apend extra quotes around the context and question.  The json response will contain the text answer, the start character from the context, the end character from the context, and the score it assigned its answer.  "
   ]
  },
  {
   "cell_type": "code",
   "execution_count": 3,
   "id": "ccea345a",
   "metadata": {},
   "outputs": [],
   "source": [
    "#context = \"'\"+'Eton is one of ten English HMC schools, commonly referred to as \"public schools\", regulated by the Public Schools Act of 1868. Following the public school tradition, Eton is a full boarding school, which means all pupils live at the school, and it is one of four such remaining single-sex boys\\' public schools in the United Kingdom (the others being Harrow, Radley, and Winchester) to continue this practice. Eton has educated 19 British prime ministers and generations of the aristocracy and has been referred to as the chief nurse of England\\'s statesmen. Charging up to £11,478 per term (there are three terms per academic year) in 2014/15, Eton is the sixth most expensive HMC boarding school in the UK.'+\"'\"\n",
    "context = \"'\"'Eton is one of ten English HMC schools, commonly referred to as \"public schools\", regulated by the Public Schools Act of 1868. Following the public school tradition, Eton is a full boarding school, which means all pupils live at the school, and it is one of four such remaining single-sex boys\\' public schools in the United Kingdom (the others being Harrow, Radley, and Winchester) to continue this practice. Eton has educated 19 British prime ministers and generations of the aristocracy and has been referred to as the chief nurse of England\\'s statesmen. Charging up to £11,478 per term (there are three terms per academic year) in 2014/15, Eton is the sixth most expensive HMC boarding school in the UK.'\"'\""
   ]
  },
  {
   "cell_type": "code",
   "execution_count": 4,
   "id": "04b47dd6",
   "metadata": {},
   "outputs": [],
   "source": [
    "#question = \"'\"+'How many public schools are regulated by the 1868 Public Schools Act?'+\"'\"\n",
    "question = \"'\"'How many public schools are regulated by the 1868 Public Schools Act?'\"'\""
   ]
  },
  {
   "cell_type": "code",
   "execution_count": 5,
   "id": "76a607c6",
   "metadata": {},
   "outputs": [],
   "source": [
    "params = {'context': context, 'question': question}"
   ]
  },
  {
   "cell_type": "code",
   "execution_count": 6,
   "id": "3b60b11e",
   "metadata": {},
   "outputs": [],
   "source": [
    "response = requests.get(api_website_end_point, params=params)"
   ]
  },
  {
   "cell_type": "code",
   "execution_count": 7,
   "id": "af1211d9",
   "metadata": {},
   "outputs": [
    {
     "data": {
      "text/plain": [
       "{'answer': 'ten', 'end': 19, 'score': 0.43327823281288147, 'start': 16}"
      ]
     },
     "execution_count": 7,
     "metadata": {},
     "output_type": "execute_result"
    }
   ],
   "source": [
    "response.json()"
   ]
  },
  {
   "cell_type": "code",
   "execution_count": 8,
   "id": "467f2c9c",
   "metadata": {},
   "outputs": [
    {
     "data": {
      "text/plain": [
       "200"
      ]
     },
     "execution_count": 8,
     "metadata": {},
     "output_type": "execute_result"
    }
   ],
   "source": [
    "response.status_code"
   ]
  },
  {
   "cell_type": "code",
   "execution_count": 63,
   "id": "097c5555",
   "metadata": {},
   "outputs": [
    {
     "data": {
      "text/plain": [
       "'{\"answer\":\"Eton\",\"end\":4,\"score\":0.39725905656814575,\"start\":0}\\n'"
      ]
     },
     "execution_count": 63,
     "metadata": {},
     "output_type": "execute_result"
    }
   ],
   "source": [
    "response.text"
   ]
  },
  {
   "cell_type": "markdown",
   "id": "c16a9a81",
   "metadata": {},
   "source": [
    "# Example 2"
   ]
  },
  {
   "cell_type": "markdown",
   "id": "004856e5",
   "metadata": {},
   "source": [
    "Answer is not contained in the context.  Returns the first character.  This is what i was trained to do. "
   ]
  },
  {
   "cell_type": "code",
   "execution_count": 21,
   "id": "b6abb1ea",
   "metadata": {},
   "outputs": [],
   "source": [
    "context = \"'\"'The term Appalachian refers to several different regions associated with the mountain range. Most broadly, it refers to the entire mountain range with its surrounding hills and the dissected plateau region. The term is often used more restrictively to refer to regions in the central and southern Appalachian Mountains, usually including areas in the states of Kentucky, Tennessee, Virginia, Maryland, West Virginia, and North Carolina, as well as sometimes extending as far south as northern Alabama, Georgia and western South Carolina, and as far north as Pennsylvania, southern Ohio and parts of southern upstate New York.'\"'\""
   ]
  },
  {
   "cell_type": "code",
   "execution_count": 22,
   "id": "c2efb69c",
   "metadata": {},
   "outputs": [],
   "source": [
    "question = \"'\"'How many public schools are regulated by the 1868 Public Schools Act?'\"'\""
   ]
  },
  {
   "cell_type": "code",
   "execution_count": 23,
   "id": "4dd93b99",
   "metadata": {},
   "outputs": [],
   "source": [
    "params = {'context': context, 'question': question}"
   ]
  },
  {
   "cell_type": "code",
   "execution_count": 24,
   "id": "82e95edb",
   "metadata": {},
   "outputs": [],
   "source": [
    "response = requests.get(api_website_end_point, params=params)"
   ]
  },
  {
   "cell_type": "code",
   "execution_count": 25,
   "id": "9264602d",
   "metadata": {},
   "outputs": [
    {
     "data": {
      "text/plain": [
       "{'answer': \"'\", 'end': 1, 'score': 0.9989138245582581, 'start': 0}"
      ]
     },
     "execution_count": 25,
     "metadata": {},
     "output_type": "execute_result"
    }
   ],
   "source": [
    "response.json()"
   ]
  },
  {
   "cell_type": "markdown",
   "id": "d573d01b",
   "metadata": {},
   "source": [
    "# Example 3"
   ]
  },
  {
   "cell_type": "code",
   "execution_count": 26,
   "id": "258c752f",
   "metadata": {},
   "outputs": [],
   "source": [
    "context = \"'\"'The term Appalachian refers to several different regions associated with the mountain range. Most broadly, it refers to the entire mountain range with its surrounding hills and the dissected plateau region. The term is often used more restrictively to refer to regions in the central and southern Appalachian Mountains, usually including areas in the states of Kentucky, Tennessee, Virginia, Maryland, West Virginia, and North Carolina, as well as sometimes extending as far south as northern Alabama, Georgia and western South Carolina, and as far north as Pennsylvania, southern Ohio and parts of southern upstate New York.'\"'\""
   ]
  },
  {
   "cell_type": "code",
   "execution_count": 27,
   "id": "a9d626da",
   "metadata": {},
   "outputs": [],
   "source": [
    "question = \"'\"'What does the term Appalachian refer to?'\"'\""
   ]
  },
  {
   "cell_type": "code",
   "execution_count": 28,
   "id": "55284a76",
   "metadata": {},
   "outputs": [],
   "source": [
    "params = {'context': context, 'question': question}"
   ]
  },
  {
   "cell_type": "code",
   "execution_count": 29,
   "id": "00024ab6",
   "metadata": {},
   "outputs": [],
   "source": [
    "response = requests.get(api_website_end_point, params=params)"
   ]
  },
  {
   "cell_type": "code",
   "execution_count": 30,
   "id": "7defc355",
   "metadata": {},
   "outputs": [
    {
     "data": {
      "text/plain": [
       "{'answer': 'several different regions associated with the mountain range',\n",
       " 'end': 92,\n",
       " 'score': 0.550426721572876,\n",
       " 'start': 32}"
      ]
     },
     "execution_count": 30,
     "metadata": {},
     "output_type": "execute_result"
    }
   ],
   "source": [
    "response.json()"
   ]
  },
  {
   "cell_type": "code",
   "execution_count": 31,
   "id": "b477c94d",
   "metadata": {},
   "outputs": [
    {
     "data": {
      "text/plain": [
       "200"
      ]
     },
     "execution_count": 31,
     "metadata": {},
     "output_type": "execute_result"
    }
   ],
   "source": [
    "response.status_code"
   ]
  }
 ],
 "metadata": {
  "kernelspec": {
   "display_name": "Python 3 (ipykernel)",
   "language": "python",
   "name": "python3"
  },
  "language_info": {
   "codemirror_mode": {
    "name": "ipython",
    "version": 3
   },
   "file_extension": ".py",
   "mimetype": "text/x-python",
   "name": "python",
   "nbconvert_exporter": "python",
   "pygments_lexer": "ipython3",
   "version": "3.8.9"
  }
 },
 "nbformat": 4,
 "nbformat_minor": 5
}
